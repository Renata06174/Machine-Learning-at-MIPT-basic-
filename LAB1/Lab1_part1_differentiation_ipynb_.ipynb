{
  "nbformat": 4,
  "nbformat_minor": 0,
  "metadata": {
    "kernelspec": {
      "name": "python3",
      "display_name": "Python 3"
    },
    "colab": {
      "name": "Копия блокнота \"Lab1_part1_differentiation.ipynb\"",
      "provenance": [],
      "collapsed_sections": [],
      "toc_visible": true
    },
    "language_info": {
      "name": "python"
    }
  },
  "cells": [
    {
      "cell_type": "markdown",
      "metadata": {
        "id": "7yAWZZ-960za"
      },
      "source": [
        "*Credits: materials from this notebook belong to YSDA [Practical DL](https://github.com/yandexdataschool/Practical_DL) course. Special thanks for making them available online.*"
      ]
    },
    {
      "cell_type": "markdown",
      "metadata": {
        "id": "dpm18Koi60ze"
      },
      "source": [
        "# Lab assignment №1, part 1\n",
        "\n",
        "This lab assignment consists of several parts. You are supposed to make some transformations, train some models, estimate the quality of the models and explain your results.\n",
        "\n",
        "Several comments:\n",
        "* Don't hesitate to ask questions, it's a good practice.\n",
        "* No private/public sharing, please. The copied assignments will be graded with 0 points.\n",
        "* Blocks of this lab will be graded separately."
      ]
    },
    {
      "cell_type": "markdown",
      "metadata": {
        "id": "a3bgFOut60zg"
      },
      "source": [
        "## Part 1. Matrix differentiation"
      ]
    },
    {
      "cell_type": "markdown",
      "metadata": {
        "id": "qwJXunrI60zj"
      },
      "source": [
        "Since it easy to google every task please please please try to undestand what's going on. The \"just answer\" thing will be not counted, make sure to present derivation of your solution. It is absolutely OK if you found an answer on web then just exercise in $\\LaTeX$ copying it into here."
      ]
    },
    {
      "cell_type": "code",
      "metadata": {
        "id": "6MpDV0wQ60zm"
      },
      "source": [
        "# If on colab, uncomment the following lines\n",
        "\n",
        "# ! wget https://raw.githubusercontent.com/girafe-ai/ml-mipt/basic_f20/homeworks_basic/Lab1_ML_pipeline_and_SVM/grad.png"
      ],
      "execution_count": null,
      "outputs": []
    },
    {
      "cell_type": "markdown",
      "metadata": {
        "id": "uULuT1Df60zo"
      },
      "source": [
        "Useful links: \n",
        "[1](http://www.machinelearning.ru/wiki/images/2/2a/Matrix-Gauss.pdf)\n",
        "[2](http://www.atmos.washington.edu/~dennis/MatrixCalculus.pdf)\n",
        "[3](http://research.microsoft.com/en-us/um/people/cmbishop/prml/index.htm)"
      ]
    },
    {
      "cell_type": "markdown",
      "metadata": {
        "id": "gnH9FJYk60zp"
      },
      "source": [
        "## ex. 1"
      ]
    },
    {
      "cell_type": "markdown",
      "metadata": {
        "id": "eJacWLO160zs"
      },
      "source": [
        "\n",
        "$$  \n",
        "y = x^Tx,  \\quad x \\in \\mathbb{R}^N \n",
        "$$"
      ]
    },
    {
      "cell_type": "markdown",
      "metadata": {
        "id": "6Rm0Zx2gbqcS"
      },
      "source": [
        "$$\n",
        "  x^{T} = (x_1,x_2,x_3... x_{n})   \n",
        "$$\n",
        "$$\n",
        "  x^{T}x = x_1 ^ 2 + x_2\n",
        "   ^ 2 +...+x_{n} ^ 2\n",
        "$$"
      ]
    },
    {
      "cell_type": "markdown",
      "metadata": {
        "id": "3YnesNMj60zu"
      },
      "source": [
        "$$\n",
        "\\frac{dy}{dx} = \\frac{\\sum\\limits_{j=1}^{N}\n",
        " x_i^2 }{dx} = 2x\n",
        "$$ "
      ]
    },
    {
      "cell_type": "markdown",
      "metadata": {
        "id": "wyvqVOpn60zz"
      },
      "source": [
        "## ex. 2"
      ]
    },
    {
      "cell_type": "markdown",
      "metadata": {
        "id": "chfcwK1l60z1"
      },
      "source": [
        "$$ y = tr(AB) \\quad A,B \\in \\mathbb{R}^{N \\times N} $$ "
      ]
    },
    {
      "cell_type": "markdown",
      "metadata": {
        "id": "x1D5GWynedlB"
      },
      "source": [
        "$$\n",
        "tr(AB) = (a_{11}b_{11} + a_{12}b_{21} + ...) + (a_{21}b_{12} +a_{22}b_{22} + a_{23}b_{32} + ..) +(a_{31}b_{13} + a_{32}b_{23} + a_{33}b_{33} + ...) + ...\n",
        "$$"
      ]
    },
    {
      "cell_type": "markdown",
      "metadata": {
        "id": "KJ0SEdlS60z2"
      },
      "source": [
        "$$\n",
        "\\frac{dy}{dA} = \\frac{\\sum\\limits_{j=1}^{n}\\sum\\limits_{i=1}^{n} A_{i, j} B_{j, i}}{dA} = B^T\n",
        "$$"
      ]
    },
    {
      "cell_type": "markdown",
      "metadata": {
        "id": "M-6Fa1O960z5"
      },
      "source": [
        "## ex. 3"
      ]
    },
    {
      "cell_type": "markdown",
      "metadata": {
        "id": "MS3NKm_x60z6"
      },
      "source": [
        "$$  \n",
        "y = x^TAc , \\quad A\\in \\mathbb{R}^{N \\times N}, x\\in \\mathbb{R}^{N}, c\\in \\mathbb{R}^{N} \n",
        "$$"
      ]
    },
    {
      "cell_type": "markdown",
      "metadata": {
        "id": "Yq_rPQDOgYg3"
      },
      "source": [
        "$$\n",
        " x^{T}Ac = (x_1a_{11} +x_2a_{21} + ..x_{n}a_{n1})c_1 + (x_1a_{12} +x_2a_{22} + ..x_{n}a_{n2})c_2 + ... + (x_1a_{1n} +x_2a_{2n} + ..x_{n}a_{nn})c_n\n",
        "$$"
      ]
    },
    {
      "cell_type": "markdown",
      "metadata": {
        "id": "93Am71Gci3wr"
      },
      "source": [
        "Из верхнего равенства в первой части задания (дифф по х) будет следующее:\n",
        "когда берем производную по x1,то на этом месте будет a11c1 +a12c2 +...(их верхней формулы), аналогично со всеми другими элементами матрицы x,\n",
        "(получим матрицу размера n * 1, которая является матрицей частных производных)"
      ]
    },
    {
      "cell_type": "markdown",
      "metadata": {
        "id": "vMJhh33X60z7"
      },
      "source": [
        "$$\n",
        "\\frac{dy}{dx} = \\frac{\\sum\\limits_{k=1}^{N} x_i(Ac)_{i}}{dx} = Ac\n",
        "$$"
      ]
    },
    {
      "cell_type": "markdown",
      "metadata": {
        "id": "nysBZR0djmGH"
      },
      "source": [
        "аналогично берем проивзодную по А и составляем матрицу частных производных размер которой будет n на n"
      ]
    },
    {
      "cell_type": "markdown",
      "metadata": {
        "id": "tu5wDfXp60z8"
      },
      "source": [
        "$$\n",
        "\\frac{dy}{dA} = \\begin{pmatrix}\n",
        "  x_1c_1& x_1c_2 & x_1c_3 &... &x_1c_n\\\\\n",
        "  ... & ...& ... & ... & ...\\\\\n",
        "  x_nc_1& x_nc_2 & x_nc_3 &... &x_nc_n\n",
        "\\end{pmatrix} = xc^{T}\n",
        "$$ "
      ]
    },
    {
      "cell_type": "markdown",
      "metadata": {
        "id": "el5j4ukD60z9"
      },
      "source": [
        "Hint for the latter (one of the ways): use *ex. 2* result and the fact \n",
        "$$\n",
        "tr(ABC) = tr (CAB)\n",
        "$$"
      ]
    },
    {
      "cell_type": "markdown",
      "metadata": {
        "id": "R8Jd2YWt60z_"
      },
      "source": [
        "## ex. 4"
      ]
    },
    {
      "cell_type": "markdown",
      "metadata": {
        "id": "nBd0i5Qp600A"
      },
      "source": [
        "Classic matrix factorization example. Given matrix $X$ you need to find $A$, $S$ to approximate $X$. This can be done by simple gradient descent iteratively alternating $A$ and $S$ updates.\n",
        "$$\n",
        "J = || X - AS ||_F^2  , \\quad A\\in \\mathbb{R}^{N \\times R} , \\quad S\\in \\mathbb{R}^{R \\times M}\n",
        "$$\n",
        "$$\n",
        "dJ = 2<X-AS, d(X-AS)> = 2<X-AS, -AdS>\n",
        "$$\n",
        "$$\n",
        "dJ = 2<-A^{T}(AS-X), dS>\n",
        "$$\n",
        "$$\n",
        "\\frac{dJ}{dS} = 2A^{T}(AS-X)\n",
        "$$\n",
        "\n",
        "You may use one of the following approaches:"
      ]
    },
    {
      "cell_type": "markdown",
      "metadata": {
        "id": "QWZ2wOIF600B"
      },
      "source": [
        "#### First approach\n",
        "Using ex.2 and the fact:\n",
        "$$\n",
        "|| X ||_F^2 = tr(XX^T) \n",
        "$$ \n",
        "it is easy to derive gradients (you can find it in one of the refs). "
      ]
    },
    {
      "cell_type": "markdown",
      "metadata": {
        "id": "hBSbesLT600E"
      },
      "source": [
        "#### Second approach\n",
        "You can use *slightly different techniques* if they suits you. Take a look at this derivation:\n",
        "<img src=\"https://github.com/girafe-ai/ml-mipt/blob/21f_basic/homeworks_basic/Lab1_ML_pipeline_and_SVM/grad.png?raw=1\">\n",
        "(excerpt from [Handbook of blind source separation, Jutten, page 517](https://books.google.ru/books?id=PTbj03bYH6kC&printsec=frontcover&dq=Handbook+of+Blind+Source+Separation&hl=en&sa=X&ved=0ahUKEwi-q_apiJDLAhULvXIKHVXJDWcQ6AEIHDAA#v=onepage&q=Handbook%20of%20Blind%20Source%20Separation&f=false), open for better picture)."
      ]
    },
    {
      "cell_type": "markdown",
      "metadata": {
        "id": "gvvJNeUJ600F"
      },
      "source": [
        "#### Third approach\n",
        "And finally we can use chain rule! \n",
        "let $ F = AS $ \n",
        "\n",
        "**Find**\n",
        "$$\n",
        "dJ =2<X-F,d(X-F)>=2<X-F,-dF>=2<F-X,dF>\n",
        "$$\n",
        "$$\n",
        "\\frac{dJ}{dF} =  2(F - X) = 2(F - X) = 2(AS - X)\n",
        "$$ \n",
        "and \n",
        "$$\n",
        "\\frac{dF}{dS} =  A(очевидно)\n",
        "$$ \n",
        "(the shape should be $ NM \\times RM )$.\n",
        "$$\n",
        "\\frac{dJ}{dS} =  \\frac{dJ}{dF} * \\frac{dF}{dS}\n",
        "$$\n",
        "Now it is easy do get desired gradients:\n",
        "(размер AS матрицы - NM, размер A - NR)\n",
        "$$\n",
        "\\frac{dJ}{dS} =  2(AS - X)^{T}A = 2A^{T}AS - 2A^{T}X\n",
        "$$ "
      ]
    },
    {
      "cell_type": "code",
      "metadata": {
        "collapsed": true,
        "jupyter": {
          "outputs_hidden": true
        },
        "id": "INybmD8o600G"
      },
      "source": [
        ""
      ],
      "execution_count": null,
      "outputs": []
    }
  ]
}